{
 "cells": [
  {
   "cell_type": "code",
   "execution_count": 1,
   "id": "a74cf575",
   "metadata": {},
   "outputs": [],
   "source": [
    "from sentence_transformers import SentenceTransformer, util\n",
    "import numpy as np"
   ]
  },
  {
   "cell_type": "markdown",
   "id": "38617cec",
   "metadata": {},
   "source": [
    "## BioBert Result"
   ]
  },
  {
   "cell_type": "code",
   "execution_count": 3,
   "id": "c6889926",
   "metadata": {},
   "outputs": [
    {
     "data": {
      "application/vnd.jupyter.widget-view+json": {
       "model_id": "2a4733a5fedd4cb8b78c2254db21164b",
       "version_major": 2,
       "version_minor": 0
      },
      "text/plain": [
       "Downloading:   0%|          | 0.00/744 [00:00<?, ?B/s]"
      ]
     },
     "metadata": {},
     "output_type": "display_data"
    },
    {
     "data": {
      "application/vnd.jupyter.widget-view+json": {
       "model_id": "dd776b4c74434156af942d70c3bfe09d",
       "version_major": 2,
       "version_minor": 0
      },
      "text/plain": [
       "Downloading:   0%|          | 0.00/1.11k [00:00<?, ?B/s]"
      ]
     },
     "metadata": {},
     "output_type": "display_data"
    },
    {
     "data": {
      "application/vnd.jupyter.widget-view+json": {
       "model_id": "3b111767b0d34132b855e86d4fe96ae0",
       "version_major": 2,
       "version_minor": 0
      },
      "text/plain": [
       "Downloading:   0%|          | 0.00/436M [00:00<?, ?B/s]"
      ]
     },
     "metadata": {},
     "output_type": "display_data"
    },
    {
     "data": {
      "application/vnd.jupyter.widget-view+json": {
       "model_id": "a5890018fab848c0a1f41fb0e655b994",
       "version_major": 2,
       "version_minor": 0
      },
      "text/plain": [
       "Downloading:   0%|          | 0.00/213k [00:00<?, ?B/s]"
      ]
     },
     "metadata": {},
     "output_type": "display_data"
    },
    {
     "name": "stderr",
     "output_type": "stream",
     "text": [
      "No sentence-transformers model found with name /home/bilal/.cache/torch/sentence_transformers/dmis-lab_biobert-base-cased-v1.2. Creating a new one with MEAN pooling.\n",
      "Some weights of the model checkpoint at /home/bilal/.cache/torch/sentence_transformers/dmis-lab_biobert-base-cased-v1.2 were not used when initializing BertModel: ['cls.predictions.decoder.bias', 'cls.seq_relationship.bias', 'cls.predictions.transform.LayerNorm.bias', 'cls.predictions.transform.dense.weight', 'cls.predictions.decoder.weight', 'cls.seq_relationship.weight', 'cls.predictions.bias', 'cls.predictions.transform.LayerNorm.weight', 'cls.predictions.transform.dense.bias']\n",
      "- This IS expected if you are initializing BertModel from the checkpoint of a model trained on another task or with another architecture (e.g. initializing a BertForSequenceClassification model from a BertForPreTraining model).\n",
      "- This IS NOT expected if you are initializing BertModel from the checkpoint of a model that you expect to be exactly identical (initializing a BertForSequenceClassification model from a BertForSequenceClassification model).\n"
     ]
    }
   ],
   "source": [
    "model = SentenceTransformer('dmis-lab/biobert-base-cased-v1.2')"
   ]
  },
  {
   "cell_type": "markdown",
   "id": "0bd2c953",
   "metadata": {},
   "source": [
    "## Similar Sentence"
   ]
  },
  {
   "cell_type": "code",
   "execution_count": 175,
   "id": "a7844b3f",
   "metadata": {},
   "outputs": [
    {
     "name": "stdout",
     "output_type": "stream",
     "text": [
      "Sentence 1: decreased gait and transfer tolerance second to weakness associated with history of strokes and now current sedentary lifestyle.\n",
      "Sentence 2: history of strokes with increased fatigability resulting in decreased stamina/endurance of LE muscles.\n",
      "\n",
      "Similarity score: 0.9432361721992493\n"
     ]
    }
   ],
   "source": [
    "sentence1 = \"decreased gait and transfer tolerance second to weakness associated with history of strokes and now current sedentary lifestyle.\"\n",
    "sentence2 = \"history of strokes with increased fatigability resulting in decreased stamina/endurance of LE muscles.\"\n",
    "sentence3 = \"motivaiton outside therapy sesssions for increasing activity and mobilty generally with increased fear of falling without therapist.\"\n",
    "sentence4 = \"residual weakness and LE muscle coordination impairment resulted from past strokes; low motivation on his own without family and caregiver pressure.\"\n",
    "sentence5 = \"lingering long term affects post strokes; increased sedentary lifestyle; variable status second to polypharmacy effects.\"\n",
    "\n",
    "# encode sentences to get their embeddings\n",
    "embedding1 = model.encode(sentence4, convert_to_tensor=True)\n",
    "embedding2 = model.encode(sentence5, convert_to_tensor=True)\n",
    "# compute similarity scores of two embeddings\n",
    "cosine_scores = util.pytorch_cos_sim(embedding1, embedding2)\n",
    "print(\"Sentence 1:\", sentence1)\n",
    "print(\"Sentence 2:\", sentence2)\n",
    "print(\"\\nSimilarity score:\", cosine_scores.item())"
   ]
  },
  {
   "cell_type": "markdown",
   "id": "50141239",
   "metadata": {},
   "source": [
    "## Different Sentence"
   ]
  },
  {
   "cell_type": "code",
   "execution_count": 73,
   "id": "04d9932b",
   "metadata": {},
   "outputs": [
    {
     "name": "stdout",
     "output_type": "stream",
     "text": [
      "Sentence 1: distractibility, variable confusion.\n",
      "Sentence 2: pt high distractibility requiring redirection to focus during session (pt reports has dx ADD).\n",
      "\n",
      "Similarity score: 0.8653935194015503\n"
     ]
    }
   ],
   "source": [
    "sentence1 = \"distractibility, variable confusion.\"\n",
    "sentence2 = \"pt high distractibility requiring redirection to focus during session (pt reports has dx ADD).\"\n",
    "\n",
    "sentence3 = \"lingering long term affects post strokes; increased sedentary lifestyle; variable status second to polypharmacy effects.\"\n",
    "sentence4 = \"patient's O2 sats continue to drop into the 80s when walking while on room air. Patient demonstrates poor awareness of decreased CV endurance and frequently tries to push herself further even when laboring to breathe. \"\n",
    "sentence5 = \"patient continues to demonstrate impaired functional endurance secondary to knee pain & increasing dyspnea with exertion, which limits her ability to walk prolonged distances.\"\n",
    "sentence6 = \"patient experienced a fall last week while navigating over threshold in bathroom. Although she was uninjured, this left her in increased pain and limited standing & walking tolerance for a few days.\"\n",
    "\n",
    "sentence7 = \"caregiver structure has disappeared from previous episodes of care since daughter moved away\"\n",
    "sentence8 = \"Lack of insight into deficits and decreased receptiveness to training\"\n",
    "\n",
    "sentence9  = \"recent reported fluctuations in blood glucose readings\"\n",
    "sentence10 = \"onset of LBP limiting patient's activity tolerance\"\n",
    "# encode sentences to get their embeddings\n",
    "\n",
    "embedding1 = model.encode(sentence9, convert_to_tensor=True)\n",
    "embedding2 = model.encode(sentence10, convert_to_tensor=True)\n",
    "# compute similarity scores of two embeddings\n",
    "cosine_scores = util.pytorch_cos_sim(embedding1, embedding2)\n",
    "print(\"Sentence 1:\", sentence1)\n",
    "print(\"Sentence 2:\", sentence2)\n",
    "print(\"\\nSimilarity score:\", cosine_scores.item())"
   ]
  },
  {
   "cell_type": "markdown",
   "id": "f3583933",
   "metadata": {},
   "source": [
    "## Using GPT2"
   ]
  },
  {
   "cell_type": "code",
   "execution_count": 74,
   "id": "2bcbb526",
   "metadata": {},
   "outputs": [
    {
     "data": {
      "application/vnd.jupyter.widget-view+json": {
       "model_id": "71c2b85a2def4ac5a33e02af7d1545a4",
       "version_major": 2,
       "version_minor": 0
      },
      "text/plain": [
       "Downloading:   0%|          | 0.00/445 [00:00<?, ?B/s]"
      ]
     },
     "metadata": {},
     "output_type": "display_data"
    },
    {
     "data": {
      "application/vnd.jupyter.widget-view+json": {
       "model_id": "fe3b9f00318949808ab12c6db132e8c0",
       "version_major": 2,
       "version_minor": 0
      },
      "text/plain": [
       "Downloading:   0%|          | 0.00/125M [00:00<?, ?B/s]"
      ]
     },
     "metadata": {},
     "output_type": "display_data"
    },
    {
     "data": {
      "application/vnd.jupyter.widget-view+json": {
       "model_id": "f3e035e79de84662b749fc53aa1a69f3",
       "version_major": 2,
       "version_minor": 0
      },
      "text/plain": [
       "Downloading:   0%|          | 0.00/248M [00:00<?, ?B/s]"
      ]
     },
     "metadata": {},
     "output_type": "display_data"
    },
    {
     "data": {
      "application/vnd.jupyter.widget-view+json": {
       "model_id": "24a9446d804f465ca6f2ba114ca74405",
       "version_major": 2,
       "version_minor": 0
      },
      "text/plain": [
       "Downloading:   0%|          | 0.00/496M [00:00<?, ?B/s]"
      ]
     },
     "metadata": {},
     "output_type": "display_data"
    },
    {
     "data": {
      "application/vnd.jupyter.widget-view+json": {
       "model_id": "e77b835a21b7442c9eb8ee9a5e9da43b",
       "version_major": 2,
       "version_minor": 0
      },
      "text/plain": [
       "Downloading:   0%|          | 0.00/7.86k [00:00<?, ?B/s]"
      ]
     },
     "metadata": {},
     "output_type": "display_data"
    },
    {
     "data": {
      "application/vnd.jupyter.widget-view+json": {
       "model_id": "6e643336b478454691e5cfff841aaf47",
       "version_major": 2,
       "version_minor": 0
      },
      "text/plain": [
       "Downloading:   0%|          | 0.00/665 [00:00<?, ?B/s]"
      ]
     },
     "metadata": {},
     "output_type": "display_data"
    },
    {
     "data": {
      "application/vnd.jupyter.widget-view+json": {
       "model_id": "9159f0afe0404d4b94c19fed43689585",
       "version_major": 2,
       "version_minor": 0
      },
      "text/plain": [
       "Downloading:   0%|          | 0.00/456k [00:00<?, ?B/s]"
      ]
     },
     "metadata": {},
     "output_type": "display_data"
    },
    {
     "data": {
      "application/vnd.jupyter.widget-view+json": {
       "model_id": "abafa2e031674383ae0a6dfd754cb884",
       "version_major": 2,
       "version_minor": 0
      },
      "text/plain": [
       "Downloading:   0%|          | 0.00/548M [00:00<?, ?B/s]"
      ]
     },
     "metadata": {},
     "output_type": "display_data"
    },
    {
     "data": {
      "application/vnd.jupyter.widget-view+json": {
       "model_id": "76a39992e47440078d67d3afc649f1c4",
       "version_major": 2,
       "version_minor": 0
      },
      "text/plain": [
       "Downloading:   0%|          | 0.00/548M [00:00<?, ?B/s]"
      ]
     },
     "metadata": {},
     "output_type": "display_data"
    },
    {
     "data": {
      "application/vnd.jupyter.widget-view+json": {
       "model_id": "d79d545531b84ba3adcc9e5d204bad17",
       "version_major": 2,
       "version_minor": 0
      },
      "text/plain": [
       "Downloading:   0%|          | 0.00/1.36M [00:00<?, ?B/s]"
      ]
     },
     "metadata": {},
     "output_type": "display_data"
    },
    {
     "data": {
      "application/vnd.jupyter.widget-view+json": {
       "model_id": "89cf065292ba46528618ad06f0b3f635",
       "version_major": 2,
       "version_minor": 0
      },
      "text/plain": [
       "Downloading:   0%|          | 0.00/1.04M [00:00<?, ?B/s]"
      ]
     },
     "metadata": {},
     "output_type": "display_data"
    },
    {
     "name": "stderr",
     "output_type": "stream",
     "text": [
      "No sentence-transformers model found with name /home/bilal/.cache/torch/sentence_transformers/gpt2. Creating a new one with MEAN pooling.\n"
     ]
    }
   ],
   "source": [
    "gpt_model = SentenceTransformer('gpt2')"
   ]
  },
  {
   "cell_type": "code",
   "execution_count": 145,
   "id": "e0fb3fd0",
   "metadata": {},
   "outputs": [],
   "source": [
    "from transformers import GPT2Model, GPT2Tokenizer\n",
    "tokenizer = GPT2Tokenizer.from_pretrained('gpt2')\n",
    "tokenizer.padding_side = \"left\"\n",
    "tokenizer.pad_token = tokenizer.eos_token"
   ]
  },
  {
   "cell_type": "markdown",
   "id": "f0d0d748",
   "metadata": {},
   "source": [
    "## Different Sentence"
   ]
  },
  {
   "cell_type": "code",
   "execution_count": 201,
   "id": "2e4a6d0c",
   "metadata": {},
   "outputs": [
    {
     "name": "stdout",
     "output_type": "stream",
     "text": [
      "Sentence 1: distractibility, variable confusion.\n",
      "Sentence 2: pt high distractibility requiring redirection to focus during session (pt reports has dx ADD).\n",
      "\n",
      "Similarity score: 0.9957907199859619\n"
     ]
    }
   ],
   "source": [
    "sentence1 = \"distractibility, variable confusion.\"\n",
    "sentence2 = \"pt high distractibility requiring redirection to focus during session (pt reports has dx ADD).\"\n",
    "\n",
    "sentence3 = \"lingering long term affects post strokes; increased sedentary lifestyle; variable status second to polypharmacy effects.\"\n",
    "sentence4 = \"patient's O2 sats continue to drop into the 80s when walking while on room air. Patient demonstrates poor awareness of decreased CV endurance and frequently tries to push herself further even when laboring to breathe. \"\n",
    "sentence5 = \"patient continues to demonstrate impaired functional endurance secondary to knee pain & increasing dyspnea with exertion, which limits her ability to walk prolonged distances.\"\n",
    "sentence6 = \"patient experienced a fall last week while navigating over threshold in bathroom. Although she was uninjured, this left her in increased pain and limited standing & walking tolerance for a few days.\"\n",
    "\n",
    "sentence7 = \"caregiver structure has disappeared from previous episodes of care since daughter moved away\"\n",
    "sentence8 = \"Lack of insight into deficits and decreased receptiveness to training\"\n",
    "\n",
    "sentence9  = \"recent reported fluctuations in blood glucose readings\"\n",
    "sentence10 = \"onset of LBP limiting patient's activity tolerance\"\n",
    "\n",
    "\n",
    "embedding2 = tokenizer(sentence9, padding=\"max_length\", max_length=512, truncation=True, return_tensors=\"pt\")['input_ids'][0]\n",
    "embedding3 = tokenizer(sentence10, padding=\"max_length\", max_length=512, truncation=True, return_tensors=\"pt\")['input_ids'][0]\n",
    "\n",
    "embedding2 = embedding2.type(torch.float)\n",
    "embedding3 = embedding3.type(torch.float)\n",
    "\n",
    "\n",
    "cosine_scores = util.pytorch_cos_sim(embedding2, embedding3)\n",
    "print(\"Sentence 1:\", sentence1)\n",
    "print(\"Sentence 2:\", sentence2)\n",
    "print(\"\\nSimilarity score:\", cosine_scores.item())"
   ]
  },
  {
   "cell_type": "markdown",
   "id": "d02acfe3",
   "metadata": {},
   "source": [
    "## Similar Sentence"
   ]
  },
  {
   "cell_type": "code",
   "execution_count": 206,
   "id": "5fed3b49",
   "metadata": {},
   "outputs": [
    {
     "name": "stdout",
     "output_type": "stream",
     "text": [
      "Sentence 1: decreased gait and transfer tolerance second to weakness associated with history of strokes and now current sedentary lifestyle.\n",
      "Sentence 2: history of strokes with increased fatigability resulting in decreased stamina/endurance of LE muscles.\n",
      "\n",
      "Similarity score: 0.9940993189811707\n"
     ]
    }
   ],
   "source": [
    "sentence1 = \"decreased gait and transfer tolerance second to weakness associated with history of strokes and now current sedentary lifestyle.\"\n",
    "sentence2 = \"history of strokes with increased fatigability resulting in decreased stamina/endurance of LE muscles.\"\n",
    "sentence3 = \"motivaiton outside therapy sesssions for increasing activity and mobilty generally with increased fear of falling without therapist.\"\n",
    "sentence4 = \"residual weakness and LE muscle coordination impairment resulted from past strokes; low motivation on his own without family and caregiver pressure.\"\n",
    "sentence5 = \"lingering long term affects post strokes; increased sedentary lifestyle; variable status second to polypharmacy effects.\"\n",
    "\n",
    "\n",
    "embedding2 = tokenizer(sentence2, padding=\"max_length\", max_length=512, truncation=True, return_tensors=\"pt\")['input_ids'][0]\n",
    "embedding3 = tokenizer(sentence5, padding=\"max_length\", max_length=512, truncation=True, return_tensors=\"pt\")['input_ids'][0]\n",
    "\n",
    "embedding2 = embedding2.type(torch.float)\n",
    "embedding3 = embedding3.type(torch.float)\n",
    "\n",
    "\n",
    "cosine_scores = util.pytorch_cos_sim(embedding2, embedding3)\n",
    "print(\"Sentence 1:\", sentence1)\n",
    "print(\"Sentence 2:\", sentence2)\n",
    "print(\"\\nSimilarity score:\", cosine_scores.item())"
   ]
  },
  {
   "cell_type": "markdown",
   "id": "2307dd5a",
   "metadata": {},
   "source": [
    "## Using emilyalsentzer/Bio_ClinicalBERT"
   ]
  },
  {
   "cell_type": "code",
   "execution_count": 207,
   "id": "f076bd90",
   "metadata": {},
   "outputs": [
    {
     "data": {
      "application/vnd.jupyter.widget-view+json": {
       "model_id": "03700edb8c9846a2ac084e272a05c78a",
       "version_major": 2,
       "version_minor": 0
      },
      "text/plain": [
       "Downloading:   0%|          | 0.00/391 [00:00<?, ?B/s]"
      ]
     },
     "metadata": {},
     "output_type": "display_data"
    },
    {
     "data": {
      "application/vnd.jupyter.widget-view+json": {
       "model_id": "ce61f9e91c63404eaa3812682d62fd29",
       "version_major": 2,
       "version_minor": 0
      },
      "text/plain": [
       "Downloading:   0%|          | 0.00/1.07k [00:00<?, ?B/s]"
      ]
     },
     "metadata": {},
     "output_type": "display_data"
    },
    {
     "data": {
      "application/vnd.jupyter.widget-view+json": {
       "model_id": "a4ef087fa7d0444e839f2b5c5db8180a",
       "version_major": 2,
       "version_minor": 0
      },
      "text/plain": [
       "Downloading:   0%|          | 0.00/2.67k [00:00<?, ?B/s]"
      ]
     },
     "metadata": {},
     "output_type": "display_data"
    },
    {
     "data": {
      "application/vnd.jupyter.widget-view+json": {
       "model_id": "affe00757a184a818a187680d21c72bc",
       "version_major": 2,
       "version_minor": 0
      },
      "text/plain": [
       "Downloading:   0%|          | 0.00/385 [00:00<?, ?B/s]"
      ]
     },
     "metadata": {},
     "output_type": "display_data"
    },
    {
     "data": {
      "application/vnd.jupyter.widget-view+json": {
       "model_id": "11d946e0c47d474096764dd2a4b2d3fb",
       "version_major": 2,
       "version_minor": 0
      },
      "text/plain": [
       "Downloading:   0%|          | 0.00/9.61M [00:00<?, ?B/s]"
      ]
     },
     "metadata": {},
     "output_type": "display_data"
    },
    {
     "data": {
      "application/vnd.jupyter.widget-view+json": {
       "model_id": "b94e6da035104e0b9bc0fda96bf74f8e",
       "version_major": 2,
       "version_minor": 0
      },
      "text/plain": [
       "Downloading:   0%|          | 0.00/1.31G [00:00<?, ?B/s]"
      ]
     },
     "metadata": {},
     "output_type": "display_data"
    },
    {
     "data": {
      "application/vnd.jupyter.widget-view+json": {
       "model_id": "583ca8ba8c20476eafe1b60d494e46c9",
       "version_major": 2,
       "version_minor": 0
      },
      "text/plain": [
       "Downloading:   0%|          | 0.00/23.4k [00:00<?, ?B/s]"
      ]
     },
     "metadata": {},
     "output_type": "display_data"
    },
    {
     "data": {
      "application/vnd.jupyter.widget-view+json": {
       "model_id": "8bd89b1e106f4888b1f102f2dadbcee3",
       "version_major": 2,
       "version_minor": 0
      },
      "text/plain": [
       "Downloading:   0%|          | 0.00/4.07M [00:00<?, ?B/s]"
      ]
     },
     "metadata": {},
     "output_type": "display_data"
    },
    {
     "data": {
      "application/vnd.jupyter.widget-view+json": {
       "model_id": "7c53438a20424a1baccb777094331e0c",
       "version_major": 2,
       "version_minor": 0
      },
      "text/plain": [
       "Downloading:   0%|          | 0.00/436M [00:00<?, ?B/s]"
      ]
     },
     "metadata": {},
     "output_type": "display_data"
    },
    {
     "data": {
      "application/vnd.jupyter.widget-view+json": {
       "model_id": "436c55e6b4304b8391b23d5fff5cedd2",
       "version_major": 2,
       "version_minor": 0
      },
      "text/plain": [
       "Downloading:   0%|          | 0.00/213k [00:00<?, ?B/s]"
      ]
     },
     "metadata": {},
     "output_type": "display_data"
    },
    {
     "name": "stderr",
     "output_type": "stream",
     "text": [
      "No sentence-transformers model found with name /home/bilal/.cache/torch/sentence_transformers/emilyalsentzer_Bio_ClinicalBERT. Creating a new one with MEAN pooling.\n",
      "Some weights of the model checkpoint at /home/bilal/.cache/torch/sentence_transformers/emilyalsentzer_Bio_ClinicalBERT were not used when initializing BertModel: ['cls.seq_relationship.bias', 'cls.predictions.transform.LayerNorm.bias', 'cls.predictions.transform.dense.weight', 'cls.predictions.decoder.weight', 'cls.seq_relationship.weight', 'cls.predictions.bias', 'cls.predictions.transform.LayerNorm.weight', 'cls.predictions.transform.dense.bias']\n",
      "- This IS expected if you are initializing BertModel from the checkpoint of a model trained on another task or with another architecture (e.g. initializing a BertForSequenceClassification model from a BertForPreTraining model).\n",
      "- This IS NOT expected if you are initializing BertModel from the checkpoint of a model that you expect to be exactly identical (initializing a BertForSequenceClassification model from a BertForSequenceClassification model).\n"
     ]
    }
   ],
   "source": [
    "bcb_model = SentenceTransformer('emilyalsentzer/Bio_ClinicalBERT')"
   ]
  },
  {
   "cell_type": "markdown",
   "id": "5b86c7db",
   "metadata": {},
   "source": [
    "## Similar Sentence"
   ]
  },
  {
   "cell_type": "code",
   "execution_count": 224,
   "id": "713a9312",
   "metadata": {},
   "outputs": [
    {
     "name": "stdout",
     "output_type": "stream",
     "text": [
      "Sentence 1: decreased gait and transfer tolerance second to weakness associated with history of strokes and now current sedentary lifestyle.\n",
      "Sentence 2: history of strokes with increased fatigability resulting in decreased stamina/endurance of LE muscles.\n",
      "\n",
      "Similarity score: 0.8950706720352173\n"
     ]
    }
   ],
   "source": [
    "sentence1 = \"decreased gait and transfer tolerance second to weakness associated with history of strokes and now current sedentary lifestyle.\"\n",
    "sentence2 = \"history of strokes with increased fatigability resulting in decreased stamina/endurance of LE muscles.\"\n",
    "sentence3 = \"motivaiton outside therapy sesssions for increasing activity and mobilty generally with increased fear of falling without therapist.\"\n",
    "sentence4 = \"residual weakness and LE muscle coordination impairment resulted from past strokes; low motivation on his own without family and caregiver pressure.\"\n",
    "sentence5 = \"lingering long term affects post strokes; increased sedentary lifestyle; variable status second to polypharmacy effects.\"\n",
    "\n",
    "# encode sentences to get their embeddings\n",
    "embedding1 = bcb_model.encode(sentence5, convert_to_tensor=True)\n",
    "embedding2 = bcb_model.encode(sentence6, convert_to_tensor=True)\n",
    "# compute similarity scores of two embeddings\n",
    "cosine_scores = util.pytorch_cos_sim(embedding1, embedding2)\n",
    "print(\"Sentence 1:\", sentence1)\n",
    "print(\"Sentence 2:\", sentence2)\n",
    "print(\"\\nSimilarity score:\", cosine_scores.item())"
   ]
  },
  {
   "cell_type": "markdown",
   "id": "4eb0ffba",
   "metadata": {},
   "source": [
    "## Different Sentence"
   ]
  },
  {
   "cell_type": "code",
   "execution_count": 237,
   "id": "d6ed4726",
   "metadata": {},
   "outputs": [
    {
     "name": "stdout",
     "output_type": "stream",
     "text": [
      "Sentence 1: distractibility, variable confusion.\n",
      "Sentence 2: pt high distractibility requiring redirection to focus during session (pt reports has dx ADD).\n",
      "\n",
      "Similarity score: 0.8212421536445618\n"
     ]
    }
   ],
   "source": [
    "sentence1 = \"distractibility, variable confusion.\"\n",
    "sentence2 = \"pt high distractibility requiring redirection to focus during session (pt reports has dx ADD).\"\n",
    "\n",
    "sentence3 = \"lingering long term affects post strokes; increased sedentary lifestyle; variable status second to polypharmacy effects.\"\n",
    "sentence4 = \"patient's O2 sats continue to drop into the 80s when walking while on room air. Patient demonstrates poor awareness of decreased CV endurance and frequently tries to push herself further even when laboring to breathe. \"\n",
    "sentence5 = \"patient continues to demonstrate impaired functional endurance secondary to knee pain & increasing dyspnea with exertion, which limits her ability to walk prolonged distances.\"\n",
    "sentence6 = \"patient experienced a fall last week while navigating over threshold in bathroom. Although she was uninjured, this left her in increased pain and limited standing & walking tolerance for a few days.\"\n",
    "\n",
    "sentence7 = \"caregiver structure has disappeared from previous episodes of care since daughter moved away\"\n",
    "sentence8 = \"Lack of insight into deficits and decreased receptiveness to training\"\n",
    "\n",
    "sentence9  = \"recent reported fluctuations in blood glucose readings\"\n",
    "sentence10 = \"onset of LBP limiting patient's activity tolerance\"\n",
    "# encode sentences to get their embeddings\n",
    "\n",
    "embedding1 = bcb_model.encode(sentence9, convert_to_tensor=True)\n",
    "embedding2 = bcb_model.encode(sentence10, convert_to_tensor=True)\n",
    "# compute similarity scores of two embeddings\n",
    "cosine_scores = util.pytorch_cos_sim(embedding1, embedding2)\n",
    "print(\"Sentence 1:\", sentence1)\n",
    "print(\"Sentence 2:\", sentence2)\n",
    "print(\"\\nSimilarity score:\", cosine_scores.item())"
   ]
  },
  {
   "cell_type": "code",
   "execution_count": null,
   "id": "da3c3638",
   "metadata": {},
   "outputs": [],
   "source": []
  },
  {
   "cell_type": "code",
   "execution_count": null,
   "id": "20c76082",
   "metadata": {},
   "outputs": [],
   "source": []
  },
  {
   "cell_type": "code",
   "execution_count": null,
   "id": "23bfa37e",
   "metadata": {},
   "outputs": [],
   "source": []
  },
  {
   "cell_type": "code",
   "execution_count": null,
   "id": "5eac7beb",
   "metadata": {},
   "outputs": [],
   "source": []
  },
  {
   "cell_type": "code",
   "execution_count": null,
   "id": "9a2e4d22",
   "metadata": {},
   "outputs": [],
   "source": []
  },
  {
   "cell_type": "code",
   "execution_count": null,
   "id": "e15da87a",
   "metadata": {},
   "outputs": [],
   "source": []
  }
 ],
 "metadata": {
  "kernelspec": {
   "display_name": "Python 3 (ipykernel)",
   "language": "python",
   "name": "python3"
  },
  "language_info": {
   "codemirror_mode": {
    "name": "ipython",
    "version": 3
   },
   "file_extension": ".py",
   "mimetype": "text/x-python",
   "name": "python",
   "nbconvert_exporter": "python",
   "pygments_lexer": "ipython3",
   "version": "3.8.10"
  }
 },
 "nbformat": 4,
 "nbformat_minor": 5
}
